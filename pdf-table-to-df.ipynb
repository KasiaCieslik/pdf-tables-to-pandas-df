{
 "cells": [
  {
   "cell_type": "code",
   "execution_count": 2,
   "metadata": {},
   "outputs": [],
   "source": [
    "import tabula\n",
    "import pandas as pd\n",
    "import numpy as np\n",
    "import pikepdf\n",
    "from PyPDF2 import PdfFileReader\n"
   ]
  },
  {
   "cell_type": "code",
   "execution_count": 10,
   "metadata": {},
   "outputs": [],
   "source": [
    "#count pages\n",
    "file = \"lista-funduszy-ETF.pdf\"\n",
    "pdf = PdfFileReader(open(file,'rb'))\n",
    "pages = pdf.getNumPages()"
   ]
  },
  {
   "cell_type": "code",
   "execution_count": 11,
   "metadata": {},
   "outputs": [
    {
     "data": {
      "text/html": [
       "<div>\n",
       "<style scoped>\n",
       "    .dataframe tbody tr th:only-of-type {\n",
       "        vertical-align: middle;\n",
       "    }\n",
       "\n",
       "    .dataframe tbody tr th {\n",
       "        vertical-align: top;\n",
       "    }\n",
       "\n",
       "    .dataframe thead th {\n",
       "        text-align: right;\n",
       "    }\n",
       "</style>\n",
       "<table border=\"1\" class=\"dataframe\">\n",
       "  <thead>\n",
       "    <tr style=\"text-align: right;\">\n",
       "      <th></th>\n",
       "      <th>url</th>\n",
       "      <th>Kod ISIN</th>\n",
       "    </tr>\n",
       "  </thead>\n",
       "  <tbody>\n",
       "    <tr>\n",
       "      <th>0</th>\n",
       "      <td>https://www.mdm.pl/ui-pub/site/oferta_indywidu...</td>\n",
       "      <td>etf_dla_zaawansowanych</td>\n",
       "    </tr>\n",
       "    <tr>\n",
       "      <th>1</th>\n",
       "      <td>https://www.mdm.pl/addstatic/kid/DE000A0KRJX4.pdf</td>\n",
       "      <td>DE000A0KRJX4</td>\n",
       "    </tr>\n",
       "    <tr>\n",
       "      <th>2</th>\n",
       "      <td>https://www.mdm.pl/addstatic/kid/DE000A1N49P6.pdf</td>\n",
       "      <td>DE000A1N49P6</td>\n",
       "    </tr>\n",
       "    <tr>\n",
       "      <th>3</th>\n",
       "      <td>https://www.mdm.pl/addstatic/kid/DE000A2BDEB6.pdf</td>\n",
       "      <td>DE000A2BDEB6</td>\n",
       "    </tr>\n",
       "    <tr>\n",
       "      <th>4</th>\n",
       "      <td>https://www.mdm.pl/addstatic/kid/GB00B15KXV33.pdf</td>\n",
       "      <td>GB00B15KXV33</td>\n",
       "    </tr>\n",
       "    <tr>\n",
       "      <th>...</th>\n",
       "      <td>...</td>\n",
       "      <td>...</td>\n",
       "    </tr>\n",
       "    <tr>\n",
       "      <th>279</th>\n",
       "      <td>https://www.mdm.pl/addstatic/kid/IE00BZ048462.pdf</td>\n",
       "      <td>IE00BZ048462</td>\n",
       "    </tr>\n",
       "    <tr>\n",
       "      <th>280</th>\n",
       "      <td>https://www.mdm.pl/addstatic/kid/IE00B44CGS96.pdf</td>\n",
       "      <td>IE00B44CGS96</td>\n",
       "    </tr>\n",
       "    <tr>\n",
       "      <th>281</th>\n",
       "      <td>https://www.mdm.pl/addstatic/kid/IE00BZ6V7883.pdf</td>\n",
       "      <td>IE00BZ6V7883</td>\n",
       "    </tr>\n",
       "    <tr>\n",
       "      <th>282</th>\n",
       "      <td>https://www.mdm.pl/addstatic/kid/IE00BNH72088.pdf</td>\n",
       "      <td>IE00BNH72088</td>\n",
       "    </tr>\n",
       "    <tr>\n",
       "      <th>283</th>\n",
       "      <td>https://www.mdm.pl/addstatic/kid/LU0832435464.pdf</td>\n",
       "      <td>LU0832435464</td>\n",
       "    </tr>\n",
       "  </tbody>\n",
       "</table>\n",
       "<p>284 rows × 2 columns</p>\n",
       "</div>"
      ],
      "text/plain": [
       "                                                   url                Kod ISIN\n",
       "0    https://www.mdm.pl/ui-pub/site/oferta_indywidu...  etf_dla_zaawansowanych\n",
       "1    https://www.mdm.pl/addstatic/kid/DE000A0KRJX4.pdf            DE000A0KRJX4\n",
       "2    https://www.mdm.pl/addstatic/kid/DE000A1N49P6.pdf            DE000A1N49P6\n",
       "3    https://www.mdm.pl/addstatic/kid/DE000A2BDEB6.pdf            DE000A2BDEB6\n",
       "4    https://www.mdm.pl/addstatic/kid/GB00B15KXV33.pdf            GB00B15KXV33\n",
       "..                                                 ...                     ...\n",
       "279  https://www.mdm.pl/addstatic/kid/IE00BZ048462.pdf            IE00BZ048462\n",
       "280  https://www.mdm.pl/addstatic/kid/IE00B44CGS96.pdf            IE00B44CGS96\n",
       "281  https://www.mdm.pl/addstatic/kid/IE00BZ6V7883.pdf            IE00BZ6V7883\n",
       "282  https://www.mdm.pl/addstatic/kid/IE00BNH72088.pdf            IE00BNH72088\n",
       "283  https://www.mdm.pl/addstatic/kid/LU0832435464.pdf            LU0832435464\n",
       "\n",
       "[284 rows x 2 columns]"
      ]
     },
     "execution_count": 11,
     "metadata": {},
     "output_type": "execute_result"
    }
   ],
   "source": [
    "# extract urls from pdf\n",
    "pdf_file = pikepdf.Pdf.open(file)\n",
    "urls = []\n",
    "# iterate over PDF pages\n",
    "for page in pdf_file.pages:\n",
    "    for annots in page.get(\"/Annots\"):\n",
    "        uri = annots.get(\"/A\").get(\"/URI\")\n",
    "        if uri is not None:\n",
    "            urls.append(str(uri))\n",
    "url = pd.DataFrame(urls,columns=['url'])\n",
    "url['Kod ISIN'] = list(map(lambda x: x.split('/')[-1].split('.')[0],url['url']))\n",
    "url = url.drop_duplicates(subset='Kod ISIN').reset_index(drop=True)\n",
    "url"
   ]
  },
  {
   "cell_type": "code",
   "execution_count": 6,
   "metadata": {},
   "outputs": [
    {
     "name": "stdout",
     "output_type": "stream",
     "text": [
      "Next page 2\n",
      "Next page 3\n",
      "Next page 4\n",
      "Next page 5\n",
      "Next page 6\n",
      "Next page 7\n",
      "Next page 8\n",
      "Next page 9\n",
      "Next page 10\n",
      "Next page 11\n",
      "Next page 12\n",
      "Next page 13\n"
     ]
    }
   ],
   "source": [
    "x = []\n",
    "for i in range(2,pages):\n",
    "    df = tabula.read_pdf(file,pages=i+1)\n",
    "    df = pd.DataFrame(df[0])\n",
    "    #df.columns = df.iloc[0]\n",
    "    #df = df.rename(columns={np.nan:'Ticker (KID/KIID - Kliknij)'})\n",
    "    #df = df[df['Nazwa instrumentu (Nazwa w serwisie)']!='Nazwa instrumentu (Nazwa w serwisie)']\n",
    "    #df = df.dropna()\n",
    "    x.append(df)\n",
    "    print('Next page {}'.format(i))\n",
    "    "
   ]
  },
  {
   "cell_type": "code",
   "execution_count": 7,
   "metadata": {},
   "outputs": [],
   "source": [
    "# data frame preparation\n",
    "df = pd.concat(x)\n",
    "df.columns = ['Nazwa instrumentu', 'Rynek', 'Waluta', 'Kod ISIN',\n",
    "       'Ticker (KID/KIID)', 'AuM (MLN)', 'Rep.', 'Opl.Zarz.',\n",
    "       'Dywidenda']\n",
    "df = df[(df['Nazwa instrumentu']!='Nazwa instrumentu (Nazwa w serwisie)') & (~df['Nazwa instrumentu'].isnull())]\n"
   ]
  },
  {
   "cell_type": "code",
   "execution_count": 8,
   "metadata": {},
   "outputs": [],
   "source": [
    "#https://stackoverflow.com/questions/36007849/how-to-split-rows-in-dataframe-based-on-specific-names-in-python\n",
    "df1 = df.reset_index(drop=True)\n",
    "df1['Sector'] = df1.iloc[:,0]\n",
    "sektor = df1['Nazwa instrumentu'][df1['Rynek'].isnull()].tolist()\n",
    "mask = df1.Sector.isin(sektor)\n",
    "mask\n",
    "df1['Sector'] = df1.Sector[mask]\n",
    "df1['Sector'] = df1.Sector.fillna(method='ffill')\n",
    "df1= df1[~df1['Rynek'].isnull()]\n",
    "df1['Dywidenda'] = list(map(lambda x: ' '.join(x.split()[1:]),df1['Dywidenda'].fillna(df1['Opl.Zarz.'])))\n",
    "df1['Opl.Zarz.'] = list(map(lambda x: x.split()[0],df1['Opl.Zarz.'].fillna(df1['Dywidenda'])))"
   ]
  },
  {
   "cell_type": "code",
   "execution_count": 9,
   "metadata": {},
   "outputs": [],
   "source": [
    "result = pd.merge(df1,url,on='Kod ISIN')\n",
    "result.to_csv('Lista-funduszy-ETF.csv')"
   ]
  }
 ],
 "metadata": {
  "kernelspec": {
   "display_name": "Python 3",
   "language": "python",
   "name": "python3"
  },
  "language_info": {
   "codemirror_mode": {
    "name": "ipython",
    "version": 3
   },
   "file_extension": ".py",
   "mimetype": "text/x-python",
   "name": "python",
   "nbconvert_exporter": "python",
   "pygments_lexer": "ipython3",
   "version": "3.7.6"
  }
 },
 "nbformat": 4,
 "nbformat_minor": 2
}
